{
 "cells": [
  {
   "cell_type": "code",
   "execution_count": 1,
   "id": "0814a46a-a2bb-427d-a8c1-8f2069af7731",
   "metadata": {},
   "outputs": [],
   "source": [
    "# Q1. Which keyword is used to create a function? Create a function to return a list of odd numbers in the \n",
    "# range of 1 to 25"
   ]
  },
  {
   "cell_type": "code",
   "execution_count": 2,
   "id": "01c26c94-6ff2-4adb-814d-ad0c9fd095d4",
   "metadata": {},
   "outputs": [],
   "source": [
    "# def keyword is used to create a function.\n",
    "# the format is like\n",
    "# def func_name():\n",
    "#     ......\n",
    "#     ....."
   ]
  },
  {
   "cell_type": "code",
   "execution_count": 3,
   "id": "68a53e11-0dfa-4c07-8d39-1d184cace788",
   "metadata": {},
   "outputs": [],
   "source": [
    "def li():\n",
    "    return(list(range(1,25,2)))"
   ]
  },
  {
   "cell_type": "code",
   "execution_count": 4,
   "id": "e940e298-36a3-4b48-8d2c-d271019181b5",
   "metadata": {},
   "outputs": [
    {
     "data": {
      "text/plain": [
       "[1, 3, 5, 7, 9, 11, 13, 15, 17, 19, 21, 23]"
      ]
     },
     "execution_count": 4,
     "metadata": {},
     "output_type": "execute_result"
    }
   ],
   "source": [
    "li()"
   ]
  },
  {
   "cell_type": "code",
   "execution_count": 5,
   "id": "78985ae3-dd29-410a-b043-b0ccd034f5a2",
   "metadata": {},
   "outputs": [],
   "source": [
    "#Q2. Why *args and **kwargs is used in some functions? Create a function each for *args and **kwargs \n",
    "#to demonstrate their use\n",
    "\n",
    "\"\"\"Ans. *args is used to store the n number of elements here * is the main attribute and we can use any other words instead of args.\n",
    "Whereas **kwargs is used for storing the arguments in a key value fashion.\"\"\"\n",
    "# Use\n",
    "def args(*args):\n",
    "    return args\n",
    "def kwargs(**kwargs):\n",
    "    return kwargs"
   ]
  },
  {
   "cell_type": "code",
   "execution_count": 6,
   "id": "6ecc8c74-078a-4a3d-84b7-33536fae01fd",
   "metadata": {},
   "outputs": [
    {
     "data": {
      "text/plain": [
       "('a', 1, 2)"
      ]
     },
     "execution_count": 6,
     "metadata": {},
     "output_type": "execute_result"
    }
   ],
   "source": [
    "args('a',1,2)"
   ]
  },
  {
   "cell_type": "code",
   "execution_count": 7,
   "id": "a5a0a2dd-ab2f-4e28-89f9-2ac285b996b3",
   "metadata": {},
   "outputs": [
    {
     "data": {
      "text/plain": [
       "{'a': 'one', 'b': 'two'}"
      ]
     },
     "execution_count": 7,
     "metadata": {},
     "output_type": "execute_result"
    }
   ],
   "source": [
    "kwargs(a=\"one\",b=\"two\")"
   ]
  },
  {
   "cell_type": "code",
   "execution_count": 8,
   "id": "5a6cd4b6-5d90-4c05-918e-950288b4f9b4",
   "metadata": {},
   "outputs": [
    {
     "name": "stdout",
     "output_type": "stream",
     "text": [
      "2\n",
      "4\n",
      "6\n",
      "8\n",
      "10\n"
     ]
    }
   ],
   "source": [
    "'''Q3.  What is an iterator in python? Name the method used to initialise the iterator object and the method \n",
    "used for iteration. Use these methods to print the first five elements of the given list [2, 4, 6, 8, 10, 12, 14, \n",
    "16, 18, 20]'''\n",
    "\n",
    "\"\"\"Ans An iterator in python is an object is an object that we used to iterate through a loop or a list.\n",
    "iter() is used to initialize iterator and it is initialized through next() method.\"\"\"\n",
    "\n",
    "lst = [2, 4, 6, 8, 10, 12, 14, 16, 18, 20]\n",
    "ite = iter(lst)\n",
    "for i in range(5):\n",
    "    print(next(ite))\n",
    "\n",
    "\n",
    "\n"
   ]
  },
  {
   "cell_type": "code",
   "execution_count": 9,
   "id": "09c56302-fe6a-4f34-9819-ef9908914d21",
   "metadata": {},
   "outputs": [
    {
     "name": "stdout",
     "output_type": "stream",
     "text": [
      "1\n",
      "2\n",
      "3\n"
     ]
    }
   ],
   "source": [
    "\"\"\"Q4.  What is a generator function in python? Why yield keyword is used? Give an example of a generator \n",
    "function\"\"\"\n",
    "\n",
    "\"\"\"Ans Generator is a function that returns an iterator that produces a sequence of values when iterated.\n",
    "The yield keyword is to pause the generator function execution and the value of the expression following the yield keyword is returned to the generator's caller\"\"\"\n",
    "def simpleGeneratorFun():\n",
    "    yield 1\n",
    "    yield 2\n",
    "    yield 3\n",
    "  \n",
    "x = simpleGeneratorFun()\n",
    "\n",
    "print(next(x)) \n",
    "print(next(x))\n",
    "print(next(x))\n"
   ]
  },
  {
   "cell_type": "code",
   "execution_count": 10,
   "id": "09b3e40b-498f-41e2-a23b-be41c918ef5f",
   "metadata": {},
   "outputs": [
    {
     "name": "stdout",
     "output_type": "stream",
     "text": [
      "2\n",
      "3\n",
      "5\n",
      "7\n",
      "11\n",
      "13\n",
      "17\n",
      "19\n",
      "23\n",
      "29\n",
      "31\n",
      "37\n",
      "41\n",
      "43\n",
      "47\n",
      "53\n",
      "59\n",
      "61\n",
      "67\n",
      "71\n"
     ]
    }
   ],
   "source": [
    "\"\"\"Q5. Create a generator function for prime numbers less than 1000. Use the next() method to print the \n",
    "first 20 prime numbers.\"\"\"\n",
    "\n",
    "def prime_numbers():\n",
    "    primes = []\n",
    "    for num in range(2, 1000):\n",
    "        for prime in primes:\n",
    "            if num % prime == 0:\n",
    "                break\n",
    "        else:\n",
    "            primes.append(num)\n",
    "            yield num\n",
    "\n",
    "prime_gen = prime_numbers()\n",
    "\n",
    "for i in range(20):\n",
    "    print(next(prime_gen))"
   ]
  },
  {
   "cell_type": "code",
   "execution_count": null,
   "id": "a48a6357-5899-45a5-bf3c-eb3480649734",
   "metadata": {},
   "outputs": [],
   "source": []
  }
 ],
 "metadata": {
  "kernelspec": {
   "display_name": "Python 3 (ipykernel)",
   "language": "python",
   "name": "python3"
  },
  "language_info": {
   "codemirror_mode": {
    "name": "ipython",
    "version": 3
   },
   "file_extension": ".py",
   "mimetype": "text/x-python",
   "name": "python",
   "nbconvert_exporter": "python",
   "pygments_lexer": "ipython3",
   "version": "3.10.8"
  }
 },
 "nbformat": 4,
 "nbformat_minor": 5
}
